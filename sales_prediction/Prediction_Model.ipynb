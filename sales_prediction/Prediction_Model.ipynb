{
 "cells": [
  {
   "cell_type": "code",
   "execution_count": 9,
   "metadata": {},
   "outputs": [],
   "source": [
    "from __future__ import division\n",
    "from datetime import datetime, timedelta,date\n",
    "import pandas as pd\n",
    "%matplotlib inline\n",
    "import matplotlib.pyplot as plt\n",
    "import numpy as np\n",
    "\n",
    "import warnings\n",
    "warnings.filterwarnings(\"ignore\")\n",
    "\n",
    "\n",
    "from chart_studio.plotly import plotly as py\n",
    "import plotly.graph_objs as go\n",
    "\n",
    "#import Keras\n",
    "import keras\n",
    "from keras.layers import Dense\n",
    "from keras.models import Sequential\n",
    "from keras.optimizers import Adam \n",
    "from keras.callbacks import EarlyStopping\n",
    "from keras.utils import np_utils\n",
    "from keras.layers import LSTM\n",
    "from sklearn.model_selection import KFold, cross_val_score, train_test_split\n",
    "\n",
    "#read the data in csv\n",
    "df_sales = pd.read_csv('transactions_22104.csv')\n",
    "\n",
    "#convert date field from string to datetime\n",
    "df_sales['date'] = pd.to_datetime(df_sales['date'])\n",
    "\n",
    "#represent month in date field as its first day\n",
    "df_sales['date'] = df_sales['date'].dt.year.astype('str') + '-' + df_sales['date'].dt.month.astype('str') + '-01'\n",
    "df_sales['date'] = pd.to_datetime(df_sales['date'])\n",
    "\n",
    "#groupby date and sum the sales\n",
    "df_sales = df_sales.groupby('date').sales.sum().reset_index()\n",
    "\n",
    "#create a new dataframe to model the difference ( Using Seasonal difference of 12 months)\n",
    "df_diff = df_sales.copy()\n",
    "\n",
    "#add previous sales to the next row\n",
    "df_diff['prev_sales'] = df_diff['sales'].shift(12)\n",
    "\n",
    "#drop the null values and calculate the difference\n",
    "df_diff = df_diff.dropna()\n",
    "df_diff['diff'] = (df_diff['sales'] - df_diff['prev_sales'])\n",
    "\n",
    "#create dataframe for transformation from time series to supervised\n",
    "df_supervised = df_diff.drop(['prev_sales'],axis=1)\n",
    "\n",
    "#adding lags\n",
    "for inc in range(1,13):\n",
    "    field_name = 'lag_' + str(inc)\n",
    "    df_supervised[field_name] = df_supervised['diff'].shift(inc)\n",
    "\n",
    "# #drop null values\n",
    "df_supervised = df_supervised.dropna().reset_index(drop=True)\n",
    "\n",
    "#import MinMaxScaler and create a new dataframe for LSTM model\n",
    "from sklearn.preprocessing import MinMaxScaler\n",
    "df_model = df_supervised.drop(['sales','date'],axis=1)\n",
    "\n",
    "#split train and test set\n",
    "data_set_length = len(df_model)\n",
    "test_set_length = int (.25 * len(df_model))\n",
    "train_set, test_set = df_model[0:-test_set_length].values, df_model[-test_set_length:].values\n",
    "\n",
    "#apply Min Max Scaler\n",
    "scaler = MinMaxScaler(feature_range=(-1, 1))\n",
    "scaler = scaler.fit(train_set)\n",
    "\n",
    "# reshape training set\n",
    "train_set = train_set.reshape(train_set.shape[0], train_set.shape[1])\n",
    "train_set_scaled = scaler.transform(train_set)\n",
    "\n",
    "# reshape test set\n",
    "test_set = test_set.reshape(test_set.shape[0], test_set.shape[1])\n",
    "test_set_scaled = scaler.transform(test_set)\n",
    "\n",
    "X_train, y_train = train_set_scaled[:, 1:], train_set_scaled[:, 0:1]\n",
    "X_train = X_train.reshape(X_train.shape[0], 1, X_train.shape[1])\n",
    "\n",
    "X_test, y_test = test_set_scaled[:, 1:], test_set_scaled[:, 0:1]\n",
    "X_test = X_test.reshape(X_test.shape[0], 1, X_test.shape[1])"
   ]
  },
  {
   "cell_type": "code",
   "execution_count": 10,
   "metadata": {},
   "outputs": [
    {
     "name": "stdout",
     "output_type": "stream",
     "text": [
      "Epoch 1/150\n",
      "14/14 [==============================] - 0s 22ms/step - loss: 0.4719\n",
      "Epoch 2/150\n",
      "14/14 [==============================] - 0s 2ms/step - loss: 0.4733\n",
      "Epoch 3/150\n",
      "14/14 [==============================] - 0s 2ms/step - loss: 0.4349\n",
      "Epoch 4/150\n",
      "14/14 [==============================] - 0s 2ms/step - loss: 0.4019\n",
      "Epoch 5/150\n",
      "14/14 [==============================] - 0s 2ms/step - loss: 0.3727\n",
      "Epoch 6/150\n",
      "14/14 [==============================] - 0s 2ms/step - loss: 0.3469\n",
      "Epoch 7/150\n",
      "14/14 [==============================] - 0s 2ms/step - loss: 0.3239\n",
      "Epoch 8/150\n",
      "14/14 [==============================] - 0s 2ms/step - loss: 0.3034\n",
      "Epoch 9/150\n",
      "14/14 [==============================] - 0s 2ms/step - loss: 0.2850\n",
      "Epoch 10/150\n",
      "14/14 [==============================] - 0s 3ms/step - loss: 0.2685\n",
      "Epoch 11/150\n",
      "14/14 [==============================] - 0s 2ms/step - loss: 0.2535\n",
      "Epoch 12/150\n",
      "14/14 [==============================] - 0s 2ms/step - loss: 0.2398\n",
      "Epoch 13/150\n",
      "14/14 [==============================] - 0s 3ms/step - loss: 0.2273\n",
      "Epoch 14/150\n",
      "14/14 [==============================] - 0s 2ms/step - loss: 0.2158\n",
      "Epoch 15/150\n",
      "14/14 [==============================] - 0s 2ms/step - loss: 0.2052\n",
      "Epoch 16/150\n",
      "14/14 [==============================] - 0s 2ms/step - loss: 0.1953\n",
      "Epoch 17/150\n",
      "14/14 [==============================] - 0s 2ms/step - loss: 0.1861\n",
      "Epoch 18/150\n",
      "14/14 [==============================] - 0s 2ms/step - loss: 0.1775\n",
      "Epoch 19/150\n",
      "14/14 [==============================] - 0s 2ms/step - loss: 0.1694\n",
      "Epoch 20/150\n",
      "14/14 [==============================] - 0s 2ms/step - loss: 0.1618\n",
      "Epoch 21/150\n",
      "14/14 [==============================] - 0s 2ms/step - loss: 0.1546\n",
      "Epoch 22/150\n",
      "14/14 [==============================] - 0s 2ms/step - loss: 0.1479\n",
      "Epoch 23/150\n",
      "14/14 [==============================] - 0s 2ms/step - loss: 0.1415\n",
      "Epoch 24/150\n",
      "14/14 [==============================] - 0s 2ms/step - loss: 0.1355\n",
      "Epoch 25/150\n",
      "14/14 [==============================] - 0s 2ms/step - loss: 0.1298\n",
      "Epoch 26/150\n",
      "14/14 [==============================] - 0s 2ms/step - loss: 0.1244\n",
      "Epoch 27/150\n",
      "14/14 [==============================] - 0s 2ms/step - loss: 0.1193\n",
      "Epoch 28/150\n",
      "14/14 [==============================] - 0s 2ms/step - loss: 0.1145\n",
      "Epoch 29/150\n",
      "14/14 [==============================] - 0s 2ms/step - loss: 0.1099\n",
      "Epoch 30/150\n",
      "14/14 [==============================] - 0s 2ms/step - loss: 0.1055\n",
      "Epoch 31/150\n",
      "14/14 [==============================] - 0s 2ms/step - loss: 0.1014\n",
      "Epoch 32/150\n",
      "14/14 [==============================] - 0s 2ms/step - loss: 0.0975\n",
      "Epoch 33/150\n",
      "14/14 [==============================] - 0s 2ms/step - loss: 0.0938\n",
      "Epoch 34/150\n",
      "14/14 [==============================] - 0s 2ms/step - loss: 0.0903\n",
      "Epoch 35/150\n",
      "14/14 [==============================] - 0s 2ms/step - loss: 0.0869\n",
      "Epoch 36/150\n",
      "14/14 [==============================] - 0s 2ms/step - loss: 0.0838\n",
      "Epoch 37/150\n",
      "14/14 [==============================] - 0s 2ms/step - loss: 0.0808\n",
      "Epoch 38/150\n",
      "14/14 [==============================] - 0s 2ms/step - loss: 0.0779\n",
      "Epoch 39/150\n",
      "14/14 [==============================] - 0s 2ms/step - loss: 0.0752\n",
      "Epoch 40/150\n",
      "14/14 [==============================] - 0s 2ms/step - loss: 0.0726\n",
      "Epoch 41/150\n",
      "14/14 [==============================] - 0s 2ms/step - loss: 0.0701\n",
      "Epoch 42/150\n",
      "14/14 [==============================] - 0s 2ms/step - loss: 0.0677\n",
      "Epoch 43/150\n",
      "14/14 [==============================] - 0s 2ms/step - loss: 0.0654\n",
      "Epoch 44/150\n",
      "14/14 [==============================] - 0s 2ms/step - loss: 0.0633\n",
      "Epoch 45/150\n",
      "14/14 [==============================] - 0s 2ms/step - loss: 0.0612\n",
      "Epoch 46/150\n",
      "14/14 [==============================] - 0s 3ms/step - loss: 0.0592\n",
      "Epoch 47/150\n",
      "14/14 [==============================] - 0s 2ms/step - loss: 0.0573\n",
      "Epoch 48/150\n",
      "14/14 [==============================] - 0s 2ms/step - loss: 0.0555\n",
      "Epoch 49/150\n",
      "14/14 [==============================] - 0s 2ms/step - loss: 0.0537\n",
      "Epoch 50/150\n",
      "14/14 [==============================] - 0s 2ms/step - loss: 0.0521\n",
      "Epoch 51/150\n",
      "14/14 [==============================] - 0s 3ms/step - loss: 0.0504\n",
      "Epoch 52/150\n",
      "14/14 [==============================] - 0s 2ms/step - loss: 0.0489\n",
      "Epoch 53/150\n",
      "14/14 [==============================] - 0s 2ms/step - loss: 0.0474\n",
      "Epoch 54/150\n",
      "14/14 [==============================] - 0s 2ms/step - loss: 0.0459\n",
      "Epoch 55/150\n",
      "14/14 [==============================] - 0s 2ms/step - loss: 0.0446\n",
      "Epoch 56/150\n",
      "14/14 [==============================] - 0s 3ms/step - loss: 0.0432\n",
      "Epoch 57/150\n",
      "14/14 [==============================] - 0s 2ms/step - loss: 0.0419\n",
      "Epoch 58/150\n",
      "14/14 [==============================] - 0s 2ms/step - loss: 0.0407\n",
      "Epoch 59/150\n",
      "14/14 [==============================] - 0s 2ms/step - loss: 0.0395\n",
      "Epoch 60/150\n",
      "14/14 [==============================] - 0s 2ms/step - loss: 0.0384\n",
      "Epoch 61/150\n",
      "14/14 [==============================] - 0s 2ms/step - loss: 0.0372\n",
      "Epoch 62/150\n",
      "14/14 [==============================] - 0s 2ms/step - loss: 0.0362\n",
      "Epoch 63/150\n",
      "14/14 [==============================] - 0s 2ms/step - loss: 0.0351\n",
      "Epoch 64/150\n",
      "14/14 [==============================] - 0s 2ms/step - loss: 0.0342\n",
      "Epoch 65/150\n",
      "14/14 [==============================] - 0s 1ms/step - loss: 0.0332\n",
      "Epoch 66/150\n",
      "14/14 [==============================] - 0s 1ms/step - loss: 0.0323\n",
      "Epoch 67/150\n",
      "14/14 [==============================] - 0s 2ms/step - loss: 0.0314\n",
      "Epoch 68/150\n",
      "14/14 [==============================] - 0s 2ms/step - loss: 0.0305\n",
      "Epoch 69/150\n",
      "14/14 [==============================] - 0s 2ms/step - loss: 0.0297\n",
      "Epoch 70/150\n",
      "14/14 [==============================] - 0s 1ms/step - loss: 0.0289\n",
      "Epoch 71/150\n",
      "14/14 [==============================] - 0s 1ms/step - loss: 0.0281\n",
      "Epoch 72/150\n",
      "14/14 [==============================] - 0s 2ms/step - loss: 0.0274\n",
      "Epoch 73/150\n",
      "14/14 [==============================] - 0s 2ms/step - loss: 0.0266\n",
      "Epoch 74/150\n",
      "14/14 [==============================] - 0s 2ms/step - loss: 0.0259\n",
      "Epoch 75/150\n",
      "14/14 [==============================] - 0s 1ms/step - loss: 0.0253\n",
      "Epoch 76/150\n",
      "14/14 [==============================] - 0s 2ms/step - loss: 0.0246\n",
      "Epoch 77/150\n",
      "14/14 [==============================] - 0s 1ms/step - loss: 0.0240\n",
      "Epoch 78/150\n",
      "14/14 [==============================] - 0s 2ms/step - loss: 0.0234\n",
      "Epoch 79/150\n",
      "14/14 [==============================] - 0s 2ms/step - loss: 0.0228\n",
      "Epoch 80/150\n",
      "14/14 [==============================] - 0s 1ms/step - loss: 0.0222\n",
      "Epoch 81/150\n",
      "14/14 [==============================] - 0s 2ms/step - loss: 0.0216\n",
      "Epoch 82/150\n",
      "14/14 [==============================] - 0s 1ms/step - loss: 0.0211\n",
      "Epoch 83/150\n",
      "14/14 [==============================] - 0s 2ms/step - loss: 0.0206\n",
      "Epoch 84/150\n",
      "14/14 [==============================] - 0s 2ms/step - loss: 0.0201\n",
      "Epoch 85/150\n",
      "14/14 [==============================] - 0s 2ms/step - loss: 0.0196\n",
      "Epoch 86/150\n",
      "14/14 [==============================] - 0s 2ms/step - loss: 0.0191\n",
      "Epoch 87/150\n",
      "14/14 [==============================] - 0s 2ms/step - loss: 0.0187\n",
      "Epoch 88/150\n",
      "14/14 [==============================] - 0s 1ms/step - loss: 0.0182\n",
      "Epoch 89/150\n",
      "14/14 [==============================] - 0s 1ms/step - loss: 0.0178\n",
      "Epoch 90/150\n",
      "14/14 [==============================] - 0s 2ms/step - loss: 0.0174\n",
      "Epoch 91/150\n",
      "14/14 [==============================] - 0s 1ms/step - loss: 0.0170\n",
      "Epoch 92/150\n",
      "14/14 [==============================] - 0s 2ms/step - loss: 0.0166\n",
      "Epoch 93/150\n",
      "14/14 [==============================] - 0s 2ms/step - loss: 0.0162\n",
      "Epoch 94/150\n",
      "14/14 [==============================] - 0s 2ms/step - loss: 0.0158\n",
      "Epoch 95/150\n",
      "14/14 [==============================] - 0s 2ms/step - loss: 0.0155\n",
      "Epoch 96/150\n",
      "14/14 [==============================] - 0s 2ms/step - loss: 0.0151\n",
      "Epoch 97/150\n",
      "14/14 [==============================] - 0s 2ms/step - loss: 0.0148\n",
      "Epoch 98/150\n",
      "14/14 [==============================] - 0s 2ms/step - loss: 0.0145\n",
      "Epoch 99/150\n",
      "14/14 [==============================] - 0s 2ms/step - loss: 0.0141\n",
      "Epoch 100/150\n",
      "14/14 [==============================] - 0s 2ms/step - loss: 0.0138\n",
      "Epoch 101/150\n",
      "14/14 [==============================] - 0s 2ms/step - loss: 0.0135\n",
      "Epoch 102/150\n"
     ]
    },
    {
     "name": "stdout",
     "output_type": "stream",
     "text": [
      "14/14 [==============================] - 0s 2ms/step - loss: 0.0132\n",
      "Epoch 103/150\n",
      "14/14 [==============================] - 0s 2ms/step - loss: 0.0130\n",
      "Epoch 104/150\n",
      "14/14 [==============================] - 0s 2ms/step - loss: 0.0127\n",
      "Epoch 105/150\n",
      "14/14 [==============================] - 0s 2ms/step - loss: 0.0124\n",
      "Epoch 106/150\n",
      "14/14 [==============================] - 0s 2ms/step - loss: 0.0121\n",
      "Epoch 107/150\n",
      "14/14 [==============================] - 0s 1ms/step - loss: 0.0119\n",
      "Epoch 108/150\n",
      "14/14 [==============================] - 0s 2ms/step - loss: 0.0116\n",
      "Epoch 109/150\n",
      "14/14 [==============================] - 0s 2ms/step - loss: 0.0114\n",
      "Epoch 110/150\n",
      "14/14 [==============================] - 0s 2ms/step - loss: 0.0112\n",
      "Epoch 111/150\n",
      "14/14 [==============================] - 0s 2ms/step - loss: 0.0109\n",
      "Epoch 112/150\n",
      "14/14 [==============================] - 0s 2ms/step - loss: 0.0107\n",
      "Epoch 113/150\n",
      "14/14 [==============================] - 0s 2ms/step - loss: 0.0105\n",
      "Epoch 114/150\n",
      "14/14 [==============================] - 0s 2ms/step - loss: 0.0103\n",
      "Epoch 115/150\n",
      "14/14 [==============================] - 0s 2ms/step - loss: 0.0100\n",
      "Epoch 116/150\n",
      "14/14 [==============================] - 0s 2ms/step - loss: 0.0098\n",
      "Epoch 117/150\n",
      "14/14 [==============================] - 0s 2ms/step - loss: 0.0096\n",
      "Epoch 118/150\n",
      "14/14 [==============================] - 0s 2ms/step - loss: 0.0094\n",
      "Epoch 119/150\n",
      "14/14 [==============================] - 0s 2ms/step - loss: 0.0092\n",
      "Epoch 120/150\n",
      "14/14 [==============================] - 0s 2ms/step - loss: 0.0090\n",
      "Epoch 121/150\n",
      "14/14 [==============================] - 0s 2ms/step - loss: 0.0089\n",
      "Epoch 122/150\n",
      "14/14 [==============================] - 0s 2ms/step - loss: 0.0087\n",
      "Epoch 123/150\n",
      "14/14 [==============================] - 0s 2ms/step - loss: 0.0085\n",
      "Epoch 124/150\n",
      "14/14 [==============================] - 0s 2ms/step - loss: 0.0083\n",
      "Epoch 125/150\n",
      "14/14 [==============================] - 0s 2ms/step - loss: 0.0081\n",
      "Epoch 126/150\n",
      "14/14 [==============================] - 0s 2ms/step - loss: 0.0080\n",
      "Epoch 127/150\n",
      "14/14 [==============================] - 0s 2ms/step - loss: 0.0078\n",
      "Epoch 128/150\n",
      "14/14 [==============================] - 0s 2ms/step - loss: 0.0076\n",
      "Epoch 129/150\n",
      "14/14 [==============================] - 0s 2ms/step - loss: 0.0075\n",
      "Epoch 130/150\n",
      "14/14 [==============================] - 0s 2ms/step - loss: 0.0073\n",
      "Epoch 131/150\n",
      "14/14 [==============================] - 0s 2ms/step - loss: 0.0071\n",
      "Epoch 132/150\n",
      "14/14 [==============================] - 0s 2ms/step - loss: 0.0070\n",
      "Epoch 133/150\n",
      "14/14 [==============================] - 0s 2ms/step - loss: 0.0068\n",
      "Epoch 134/150\n",
      "14/14 [==============================] - 0s 2ms/step - loss: 0.0067\n",
      "Epoch 135/150\n",
      "14/14 [==============================] - 0s 2ms/step - loss: 0.0065\n",
      "Epoch 136/150\n",
      "14/14 [==============================] - 0s 2ms/step - loss: 0.0064\n",
      "Epoch 137/150\n",
      "14/14 [==============================] - 0s 2ms/step - loss: 0.0062\n",
      "Epoch 138/150\n",
      "14/14 [==============================] - 0s 2ms/step - loss: 0.0061\n",
      "Epoch 139/150\n",
      "14/14 [==============================] - 0s 2ms/step - loss: 0.0060\n",
      "Epoch 140/150\n",
      "14/14 [==============================] - 0s 2ms/step - loss: 0.0058\n",
      "Epoch 141/150\n",
      "14/14 [==============================] - 0s 2ms/step - loss: 0.0057\n",
      "Epoch 142/150\n",
      "14/14 [==============================] - 0s 2ms/step - loss: 0.0055\n",
      "Epoch 143/150\n",
      "14/14 [==============================] - 0s 2ms/step - loss: 0.0054\n",
      "Epoch 144/150\n",
      "14/14 [==============================] - 0s 2ms/step - loss: 0.0053\n",
      "Epoch 145/150\n",
      "14/14 [==============================] - 0s 2ms/step - loss: 0.0052\n",
      "Epoch 146/150\n",
      "14/14 [==============================] - 0s 2ms/step - loss: 0.0050\n",
      "Epoch 147/150\n",
      "14/14 [==============================] - 0s 2ms/step - loss: 0.0049\n",
      "Epoch 148/150\n",
      "14/14 [==============================] - 0s 2ms/step - loss: 0.0048\n",
      "Epoch 149/150\n",
      "14/14 [==============================] - 0s 2ms/step - loss: 0.0047\n",
      "Epoch 150/150\n",
      "14/14 [==============================] - 0s 2ms/step - loss: 0.0045\n"
     ]
    },
    {
     "data": {
      "text/plain": [
       "<keras.callbacks.callbacks.History at 0x1a3b65e160>"
      ]
     },
     "execution_count": 10,
     "metadata": {},
     "output_type": "execute_result"
    }
   ],
   "source": [
    "model = Sequential()\n",
    "model.add(LSTM(4, batch_input_shape=(1, X_train.shape[1], X_train.shape[2]), stateful=True))\n",
    "model.add(Dense(1))\n",
    "model.compile(loss='mean_squared_error', optimizer='adam')\n",
    "model.fit(X_train, y_train, nb_epoch=150, batch_size=1, verbose=1, shuffle=False)"
   ]
  },
  {
   "cell_type": "code",
   "execution_count": 29,
   "metadata": {},
   "outputs": [
    {
     "data": {
      "text/plain": [
       "array([[[-0.98877859, -0.82046708, -1.22978837, -1.84542378,\n",
       "         -1.29154423, -1.21156952, -1.06453653, -1.09136231,\n",
       "         -1.29866772, -1.06624616, -0.71909377,  0.2926832 ]],\n",
       "\n",
       "       [[-0.9773101 , -0.9904872 , -1.02962816, -2.17234643,\n",
       "         -2.26020723, -1.53395469, -1.28293304, -1.15884695,\n",
       "         -1.40367351, -1.37480668, -1.06624616, -0.3405696 ]],\n",
       "\n",
       "       [[ 0.10575375, -0.98076494, -1.2191826 , -1.88757612,\n",
       "         -2.63478608, -2.60508747, -1.61572102, -1.38722006,\n",
       "         -1.48123589, -1.48329059, -1.37480668, -0.61128313]],\n",
       "\n",
       "       [[-0.24442322, -0.06261187, -1.20834331, -2.15725748,\n",
       "         -2.30850421, -3.01929106, -2.7214174 , -1.73521017,\n",
       "         -1.74371284, -1.56342207, -1.48329059, -0.85190226]]])"
      ]
     },
     "execution_count": 29,
     "metadata": {},
     "output_type": "execute_result"
    }
   ],
   "source": [
    "y_pred = model.predict(X_test,batch_size=1)\n",
    "X_test"
   ]
  },
  {
   "cell_type": "code",
   "execution_count": 25,
   "metadata": {},
   "outputs": [
    {
     "data": {
      "text/plain": [
       "(1, 1, 1)"
      ]
     },
     "execution_count": 25,
     "metadata": {},
     "output_type": "execute_result"
    }
   ],
   "source": [
    "\n",
    "#reshape y_pred\n",
    "y_pred = y_pred.reshape(y_pred.shape[0], 1, y_pred.shape[1])\n",
    "\n",
    "#rebuild test set for inverse transform\n",
    "pred_test_set = []\n",
    "for index in range(0,len(y_pred)):\n",
    "    pred_test_set.append(np.concatenate([y_pred[index],X_test[index]],axis=1))\n",
    "#reshape pred_test_set\n",
    "pred_test_set = np.array(pred_test_set)\n",
    "pred_test_set = pred_test_set.reshape(pred_test_set.shape[0], pred_test_set.shape[2])\n",
    "#inverse transform\n",
    "pred_test_set_inverted = scaler.inverse_transform(pred_test_set)\n",
    "\n",
    "#create dataframe that shows the predicted sales\n",
    "result_list = []\n",
    "sales_dates = list(df_sales[-test_set_length:].date)\n",
    "actual_sales = list(df_sales[-test_set_length- 12:].sales)\n",
    "for index in range(0,len(pred_test_set_inverted)):\n",
    "    result_dict = {}\n",
    "    \n",
    "    result_dict['pred_value'] = int(pred_test_set_inverted[index][1] + actual_sales[index])\n",
    "    result_dict['date'] = sales_dates[index]\n",
    "    result_list.append(result_dict)\n",
    "df_result = pd.DataFrame(result_list)\n"
   ]
  },
  {
   "cell_type": "code",
   "execution_count": 13,
   "metadata": {},
   "outputs": [
    {
     "data": {
      "application/vnd.plotly.v1+json": {
       "config": {
        "plotlyServerURL": "https://plot.ly"
       },
       "data": [
        {
         "name": "actual",
         "type": "scatter",
         "x": [
          "2016-08-01T00:00:00",
          "2016-09-01T00:00:00",
          "2016-10-01T00:00:00",
          "2016-11-01T00:00:00",
          "2016-12-01T00:00:00",
          "2017-01-01T00:00:00",
          "2017-02-01T00:00:00",
          "2017-03-01T00:00:00",
          "2017-04-01T00:00:00",
          "2017-05-01T00:00:00",
          "2017-06-01T00:00:00",
          "2017-07-01T00:00:00",
          "2017-08-01T00:00:00",
          "2017-09-01T00:00:00",
          "2017-10-01T00:00:00",
          "2017-11-01T00:00:00",
          "2017-12-01T00:00:00",
          "2018-01-01T00:00:00",
          "2018-02-01T00:00:00",
          "2018-03-01T00:00:00",
          "2018-04-01T00:00:00",
          "2018-05-01T00:00:00",
          "2018-06-01T00:00:00",
          "2018-07-01T00:00:00",
          "2018-08-01T00:00:00",
          "2018-09-01T00:00:00",
          "2018-10-01T00:00:00",
          "2018-11-01T00:00:00",
          "2018-12-01T00:00:00",
          "2019-01-01T00:00:00",
          "2019-02-01T00:00:00",
          "2019-03-01T00:00:00",
          "2019-04-01T00:00:00",
          "2019-05-01T00:00:00",
          "2019-06-01T00:00:00",
          "2019-07-01T00:00:00",
          "2019-08-01T00:00:00",
          "2019-09-01T00:00:00",
          "2019-10-01T00:00:00",
          "2019-11-01T00:00:00",
          "2019-12-01T00:00:00",
          "2020-01-01T00:00:00"
         ],
         "y": [
          500,
          500,
          500,
          500,
          500,
          500,
          1000,
          13500,
          9000,
          6500,
          3352000,
          8499000,
          4735500,
          6838625,
          6191500,
          8428500,
          8203100,
          7643350,
          7201800,
          8828350,
          8291150,
          8630350,
          14699525,
          16605350,
          14060650,
          14034650,
          15200450,
          15343750,
          14223300,
          12868000,
          12146750,
          13566700,
          12330350,
          11604200,
          14133723,
          14670776,
          13318363,
          12163251,
          13393617,
          19634417,
          16542519,
          12474781
         ]
        },
        {
         "name": "predicted",
         "type": "scatter",
         "x": [
          "2016-08-01T00:00:00",
          "2016-09-01T00:00:00",
          "2016-10-01T00:00:00",
          "2016-11-01T00:00:00",
          "2016-12-01T00:00:00",
          "2017-01-01T00:00:00",
          "2017-02-01T00:00:00",
          "2017-03-01T00:00:00",
          "2017-04-01T00:00:00",
          "2017-05-01T00:00:00",
          "2017-06-01T00:00:00",
          "2017-07-01T00:00:00",
          "2017-08-01T00:00:00",
          "2017-09-01T00:00:00",
          "2017-10-01T00:00:00",
          "2017-11-01T00:00:00",
          "2017-12-01T00:00:00",
          "2018-01-01T00:00:00",
          "2018-02-01T00:00:00",
          "2018-03-01T00:00:00",
          "2018-04-01T00:00:00",
          "2018-05-01T00:00:00",
          "2018-06-01T00:00:00",
          "2018-07-01T00:00:00",
          "2018-08-01T00:00:00",
          "2018-09-01T00:00:00",
          "2018-10-01T00:00:00",
          "2018-11-01T00:00:00",
          "2018-12-01T00:00:00",
          "2019-01-01T00:00:00",
          "2019-02-01T00:00:00",
          "2019-03-01T00:00:00",
          "2019-04-01T00:00:00",
          "2019-05-01T00:00:00",
          "2019-06-01T00:00:00",
          "2019-07-01T00:00:00",
          "2019-08-01T00:00:00",
          "2019-09-01T00:00:00",
          "2019-10-01T00:00:00",
          "2019-11-01T00:00:00",
          "2019-12-01T00:00:00",
          "2020-01-01T00:00:00"
         ],
         "y": [
          null,
          null,
          null,
          null,
          null,
          null,
          null,
          null,
          null,
          null,
          null,
          null,
          null,
          null,
          null,
          null,
          null,
          null,
          null,
          null,
          null,
          null,
          null,
          null,
          null,
          null,
          null,
          null,
          null,
          null,
          null,
          null,
          null,
          null,
          null,
          null,
          null,
          null,
          13329051,
          13536917,
          18513967,
          15187219
         ]
        }
       ],
       "layout": {
        "template": {
         "data": {
          "bar": [
           {
            "error_x": {
             "color": "#2a3f5f"
            },
            "error_y": {
             "color": "#2a3f5f"
            },
            "marker": {
             "line": {
              "color": "#E5ECF6",
              "width": 0.5
             }
            },
            "type": "bar"
           }
          ],
          "barpolar": [
           {
            "marker": {
             "line": {
              "color": "#E5ECF6",
              "width": 0.5
             }
            },
            "type": "barpolar"
           }
          ],
          "carpet": [
           {
            "aaxis": {
             "endlinecolor": "#2a3f5f",
             "gridcolor": "white",
             "linecolor": "white",
             "minorgridcolor": "white",
             "startlinecolor": "#2a3f5f"
            },
            "baxis": {
             "endlinecolor": "#2a3f5f",
             "gridcolor": "white",
             "linecolor": "white",
             "minorgridcolor": "white",
             "startlinecolor": "#2a3f5f"
            },
            "type": "carpet"
           }
          ],
          "choropleth": [
           {
            "colorbar": {
             "outlinewidth": 0,
             "ticks": ""
            },
            "type": "choropleth"
           }
          ],
          "contour": [
           {
            "colorbar": {
             "outlinewidth": 0,
             "ticks": ""
            },
            "colorscale": [
             [
              0,
              "#0d0887"
             ],
             [
              0.1111111111111111,
              "#46039f"
             ],
             [
              0.2222222222222222,
              "#7201a8"
             ],
             [
              0.3333333333333333,
              "#9c179e"
             ],
             [
              0.4444444444444444,
              "#bd3786"
             ],
             [
              0.5555555555555556,
              "#d8576b"
             ],
             [
              0.6666666666666666,
              "#ed7953"
             ],
             [
              0.7777777777777778,
              "#fb9f3a"
             ],
             [
              0.8888888888888888,
              "#fdca26"
             ],
             [
              1,
              "#f0f921"
             ]
            ],
            "type": "contour"
           }
          ],
          "contourcarpet": [
           {
            "colorbar": {
             "outlinewidth": 0,
             "ticks": ""
            },
            "type": "contourcarpet"
           }
          ],
          "heatmap": [
           {
            "colorbar": {
             "outlinewidth": 0,
             "ticks": ""
            },
            "colorscale": [
             [
              0,
              "#0d0887"
             ],
             [
              0.1111111111111111,
              "#46039f"
             ],
             [
              0.2222222222222222,
              "#7201a8"
             ],
             [
              0.3333333333333333,
              "#9c179e"
             ],
             [
              0.4444444444444444,
              "#bd3786"
             ],
             [
              0.5555555555555556,
              "#d8576b"
             ],
             [
              0.6666666666666666,
              "#ed7953"
             ],
             [
              0.7777777777777778,
              "#fb9f3a"
             ],
             [
              0.8888888888888888,
              "#fdca26"
             ],
             [
              1,
              "#f0f921"
             ]
            ],
            "type": "heatmap"
           }
          ],
          "heatmapgl": [
           {
            "colorbar": {
             "outlinewidth": 0,
             "ticks": ""
            },
            "colorscale": [
             [
              0,
              "#0d0887"
             ],
             [
              0.1111111111111111,
              "#46039f"
             ],
             [
              0.2222222222222222,
              "#7201a8"
             ],
             [
              0.3333333333333333,
              "#9c179e"
             ],
             [
              0.4444444444444444,
              "#bd3786"
             ],
             [
              0.5555555555555556,
              "#d8576b"
             ],
             [
              0.6666666666666666,
              "#ed7953"
             ],
             [
              0.7777777777777778,
              "#fb9f3a"
             ],
             [
              0.8888888888888888,
              "#fdca26"
             ],
             [
              1,
              "#f0f921"
             ]
            ],
            "type": "heatmapgl"
           }
          ],
          "histogram": [
           {
            "marker": {
             "colorbar": {
              "outlinewidth": 0,
              "ticks": ""
             }
            },
            "type": "histogram"
           }
          ],
          "histogram2d": [
           {
            "colorbar": {
             "outlinewidth": 0,
             "ticks": ""
            },
            "colorscale": [
             [
              0,
              "#0d0887"
             ],
             [
              0.1111111111111111,
              "#46039f"
             ],
             [
              0.2222222222222222,
              "#7201a8"
             ],
             [
              0.3333333333333333,
              "#9c179e"
             ],
             [
              0.4444444444444444,
              "#bd3786"
             ],
             [
              0.5555555555555556,
              "#d8576b"
             ],
             [
              0.6666666666666666,
              "#ed7953"
             ],
             [
              0.7777777777777778,
              "#fb9f3a"
             ],
             [
              0.8888888888888888,
              "#fdca26"
             ],
             [
              1,
              "#f0f921"
             ]
            ],
            "type": "histogram2d"
           }
          ],
          "histogram2dcontour": [
           {
            "colorbar": {
             "outlinewidth": 0,
             "ticks": ""
            },
            "colorscale": [
             [
              0,
              "#0d0887"
             ],
             [
              0.1111111111111111,
              "#46039f"
             ],
             [
              0.2222222222222222,
              "#7201a8"
             ],
             [
              0.3333333333333333,
              "#9c179e"
             ],
             [
              0.4444444444444444,
              "#bd3786"
             ],
             [
              0.5555555555555556,
              "#d8576b"
             ],
             [
              0.6666666666666666,
              "#ed7953"
             ],
             [
              0.7777777777777778,
              "#fb9f3a"
             ],
             [
              0.8888888888888888,
              "#fdca26"
             ],
             [
              1,
              "#f0f921"
             ]
            ],
            "type": "histogram2dcontour"
           }
          ],
          "mesh3d": [
           {
            "colorbar": {
             "outlinewidth": 0,
             "ticks": ""
            },
            "type": "mesh3d"
           }
          ],
          "parcoords": [
           {
            "line": {
             "colorbar": {
              "outlinewidth": 0,
              "ticks": ""
             }
            },
            "type": "parcoords"
           }
          ],
          "pie": [
           {
            "automargin": true,
            "type": "pie"
           }
          ],
          "scatter": [
           {
            "marker": {
             "colorbar": {
              "outlinewidth": 0,
              "ticks": ""
             }
            },
            "type": "scatter"
           }
          ],
          "scatter3d": [
           {
            "line": {
             "colorbar": {
              "outlinewidth": 0,
              "ticks": ""
             }
            },
            "marker": {
             "colorbar": {
              "outlinewidth": 0,
              "ticks": ""
             }
            },
            "type": "scatter3d"
           }
          ],
          "scattercarpet": [
           {
            "marker": {
             "colorbar": {
              "outlinewidth": 0,
              "ticks": ""
             }
            },
            "type": "scattercarpet"
           }
          ],
          "scattergeo": [
           {
            "marker": {
             "colorbar": {
              "outlinewidth": 0,
              "ticks": ""
             }
            },
            "type": "scattergeo"
           }
          ],
          "scattergl": [
           {
            "marker": {
             "colorbar": {
              "outlinewidth": 0,
              "ticks": ""
             }
            },
            "type": "scattergl"
           }
          ],
          "scattermapbox": [
           {
            "marker": {
             "colorbar": {
              "outlinewidth": 0,
              "ticks": ""
             }
            },
            "type": "scattermapbox"
           }
          ],
          "scatterpolar": [
           {
            "marker": {
             "colorbar": {
              "outlinewidth": 0,
              "ticks": ""
             }
            },
            "type": "scatterpolar"
           }
          ],
          "scatterpolargl": [
           {
            "marker": {
             "colorbar": {
              "outlinewidth": 0,
              "ticks": ""
             }
            },
            "type": "scatterpolargl"
           }
          ],
          "scatterternary": [
           {
            "marker": {
             "colorbar": {
              "outlinewidth": 0,
              "ticks": ""
             }
            },
            "type": "scatterternary"
           }
          ],
          "surface": [
           {
            "colorbar": {
             "outlinewidth": 0,
             "ticks": ""
            },
            "colorscale": [
             [
              0,
              "#0d0887"
             ],
             [
              0.1111111111111111,
              "#46039f"
             ],
             [
              0.2222222222222222,
              "#7201a8"
             ],
             [
              0.3333333333333333,
              "#9c179e"
             ],
             [
              0.4444444444444444,
              "#bd3786"
             ],
             [
              0.5555555555555556,
              "#d8576b"
             ],
             [
              0.6666666666666666,
              "#ed7953"
             ],
             [
              0.7777777777777778,
              "#fb9f3a"
             ],
             [
              0.8888888888888888,
              "#fdca26"
             ],
             [
              1,
              "#f0f921"
             ]
            ],
            "type": "surface"
           }
          ],
          "table": [
           {
            "cells": {
             "fill": {
              "color": "#EBF0F8"
             },
             "line": {
              "color": "white"
             }
            },
            "header": {
             "fill": {
              "color": "#C8D4E3"
             },
             "line": {
              "color": "white"
             }
            },
            "type": "table"
           }
          ]
         },
         "layout": {
          "annotationdefaults": {
           "arrowcolor": "#2a3f5f",
           "arrowhead": 0,
           "arrowwidth": 1
          },
          "coloraxis": {
           "colorbar": {
            "outlinewidth": 0,
            "ticks": ""
           }
          },
          "colorscale": {
           "diverging": [
            [
             0,
             "#8e0152"
            ],
            [
             0.1,
             "#c51b7d"
            ],
            [
             0.2,
             "#de77ae"
            ],
            [
             0.3,
             "#f1b6da"
            ],
            [
             0.4,
             "#fde0ef"
            ],
            [
             0.5,
             "#f7f7f7"
            ],
            [
             0.6,
             "#e6f5d0"
            ],
            [
             0.7,
             "#b8e186"
            ],
            [
             0.8,
             "#7fbc41"
            ],
            [
             0.9,
             "#4d9221"
            ],
            [
             1,
             "#276419"
            ]
           ],
           "sequential": [
            [
             0,
             "#0d0887"
            ],
            [
             0.1111111111111111,
             "#46039f"
            ],
            [
             0.2222222222222222,
             "#7201a8"
            ],
            [
             0.3333333333333333,
             "#9c179e"
            ],
            [
             0.4444444444444444,
             "#bd3786"
            ],
            [
             0.5555555555555556,
             "#d8576b"
            ],
            [
             0.6666666666666666,
             "#ed7953"
            ],
            [
             0.7777777777777778,
             "#fb9f3a"
            ],
            [
             0.8888888888888888,
             "#fdca26"
            ],
            [
             1,
             "#f0f921"
            ]
           ],
           "sequentialminus": [
            [
             0,
             "#0d0887"
            ],
            [
             0.1111111111111111,
             "#46039f"
            ],
            [
             0.2222222222222222,
             "#7201a8"
            ],
            [
             0.3333333333333333,
             "#9c179e"
            ],
            [
             0.4444444444444444,
             "#bd3786"
            ],
            [
             0.5555555555555556,
             "#d8576b"
            ],
            [
             0.6666666666666666,
             "#ed7953"
            ],
            [
             0.7777777777777778,
             "#fb9f3a"
            ],
            [
             0.8888888888888888,
             "#fdca26"
            ],
            [
             1,
             "#f0f921"
            ]
           ]
          },
          "colorway": [
           "#636efa",
           "#EF553B",
           "#00cc96",
           "#ab63fa",
           "#FFA15A",
           "#19d3f3",
           "#FF6692",
           "#B6E880",
           "#FF97FF",
           "#FECB52"
          ],
          "font": {
           "color": "#2a3f5f"
          },
          "geo": {
           "bgcolor": "white",
           "lakecolor": "white",
           "landcolor": "#E5ECF6",
           "showlakes": true,
           "showland": true,
           "subunitcolor": "white"
          },
          "hoverlabel": {
           "align": "left"
          },
          "hovermode": "closest",
          "mapbox": {
           "style": "light"
          },
          "paper_bgcolor": "white",
          "plot_bgcolor": "#E5ECF6",
          "polar": {
           "angularaxis": {
            "gridcolor": "white",
            "linecolor": "white",
            "ticks": ""
           },
           "bgcolor": "#E5ECF6",
           "radialaxis": {
            "gridcolor": "white",
            "linecolor": "white",
            "ticks": ""
           }
          },
          "scene": {
           "xaxis": {
            "backgroundcolor": "#E5ECF6",
            "gridcolor": "white",
            "gridwidth": 2,
            "linecolor": "white",
            "showbackground": true,
            "ticks": "",
            "zerolinecolor": "white"
           },
           "yaxis": {
            "backgroundcolor": "#E5ECF6",
            "gridcolor": "white",
            "gridwidth": 2,
            "linecolor": "white",
            "showbackground": true,
            "ticks": "",
            "zerolinecolor": "white"
           },
           "zaxis": {
            "backgroundcolor": "#E5ECF6",
            "gridcolor": "white",
            "gridwidth": 2,
            "linecolor": "white",
            "showbackground": true,
            "ticks": "",
            "zerolinecolor": "white"
           }
          },
          "shapedefaults": {
           "line": {
            "color": "#2a3f5f"
           }
          },
          "ternary": {
           "aaxis": {
            "gridcolor": "white",
            "linecolor": "white",
            "ticks": ""
           },
           "baxis": {
            "gridcolor": "white",
            "linecolor": "white",
            "ticks": ""
           },
           "bgcolor": "#E5ECF6",
           "caxis": {
            "gridcolor": "white",
            "linecolor": "white",
            "ticks": ""
           }
          },
          "title": {
           "x": 0.05
          },
          "xaxis": {
           "automargin": true,
           "gridcolor": "white",
           "linecolor": "white",
           "ticks": "",
           "title": {
            "standoff": 15
           },
           "zerolinecolor": "white",
           "zerolinewidth": 2
          },
          "yaxis": {
           "automargin": true,
           "gridcolor": "white",
           "linecolor": "white",
           "ticks": "",
           "title": {
            "standoff": 15
           },
           "zerolinecolor": "white",
           "zerolinewidth": 2
          }
         }
        },
        "title": {
         "text": "Sales Prediction"
        }
       }
      },
      "text/html": [
       "<div>\n",
       "        \n",
       "        \n",
       "            <div id=\"f1483560-2e70-4716-996d-96a92ce3fa2a\" class=\"plotly-graph-div\" style=\"height:525px; width:100%;\"></div>\n",
       "            <script type=\"text/javascript\">\n",
       "                require([\"plotly\"], function(Plotly) {\n",
       "                    window.PLOTLYENV=window.PLOTLYENV || {};\n",
       "                    \n",
       "                if (document.getElementById(\"f1483560-2e70-4716-996d-96a92ce3fa2a\")) {\n",
       "                    Plotly.newPlot(\n",
       "                        'f1483560-2e70-4716-996d-96a92ce3fa2a',\n",
       "                        [{\"name\": \"actual\", \"type\": \"scatter\", \"x\": [\"2016-08-01T00:00:00\", \"2016-09-01T00:00:00\", \"2016-10-01T00:00:00\", \"2016-11-01T00:00:00\", \"2016-12-01T00:00:00\", \"2017-01-01T00:00:00\", \"2017-02-01T00:00:00\", \"2017-03-01T00:00:00\", \"2017-04-01T00:00:00\", \"2017-05-01T00:00:00\", \"2017-06-01T00:00:00\", \"2017-07-01T00:00:00\", \"2017-08-01T00:00:00\", \"2017-09-01T00:00:00\", \"2017-10-01T00:00:00\", \"2017-11-01T00:00:00\", \"2017-12-01T00:00:00\", \"2018-01-01T00:00:00\", \"2018-02-01T00:00:00\", \"2018-03-01T00:00:00\", \"2018-04-01T00:00:00\", \"2018-05-01T00:00:00\", \"2018-06-01T00:00:00\", \"2018-07-01T00:00:00\", \"2018-08-01T00:00:00\", \"2018-09-01T00:00:00\", \"2018-10-01T00:00:00\", \"2018-11-01T00:00:00\", \"2018-12-01T00:00:00\", \"2019-01-01T00:00:00\", \"2019-02-01T00:00:00\", \"2019-03-01T00:00:00\", \"2019-04-01T00:00:00\", \"2019-05-01T00:00:00\", \"2019-06-01T00:00:00\", \"2019-07-01T00:00:00\", \"2019-08-01T00:00:00\", \"2019-09-01T00:00:00\", \"2019-10-01T00:00:00\", \"2019-11-01T00:00:00\", \"2019-12-01T00:00:00\", \"2020-01-01T00:00:00\"], \"y\": [500, 500, 500, 500, 500, 500, 1000, 13500, 9000, 6500, 3352000, 8499000, 4735500, 6838625, 6191500, 8428500, 8203100, 7643350, 7201800, 8828350, 8291150, 8630350, 14699525, 16605350, 14060650, 14034650, 15200450, 15343750, 14223300, 12868000, 12146750, 13566700, 12330350, 11604200, 14133723, 14670776, 13318363, 12163251, 13393617, 19634417, 16542519, 12474781]}, {\"name\": \"predicted\", \"type\": \"scatter\", \"x\": [\"2016-08-01T00:00:00\", \"2016-09-01T00:00:00\", \"2016-10-01T00:00:00\", \"2016-11-01T00:00:00\", \"2016-12-01T00:00:00\", \"2017-01-01T00:00:00\", \"2017-02-01T00:00:00\", \"2017-03-01T00:00:00\", \"2017-04-01T00:00:00\", \"2017-05-01T00:00:00\", \"2017-06-01T00:00:00\", \"2017-07-01T00:00:00\", \"2017-08-01T00:00:00\", \"2017-09-01T00:00:00\", \"2017-10-01T00:00:00\", \"2017-11-01T00:00:00\", \"2017-12-01T00:00:00\", \"2018-01-01T00:00:00\", \"2018-02-01T00:00:00\", \"2018-03-01T00:00:00\", \"2018-04-01T00:00:00\", \"2018-05-01T00:00:00\", \"2018-06-01T00:00:00\", \"2018-07-01T00:00:00\", \"2018-08-01T00:00:00\", \"2018-09-01T00:00:00\", \"2018-10-01T00:00:00\", \"2018-11-01T00:00:00\", \"2018-12-01T00:00:00\", \"2019-01-01T00:00:00\", \"2019-02-01T00:00:00\", \"2019-03-01T00:00:00\", \"2019-04-01T00:00:00\", \"2019-05-01T00:00:00\", \"2019-06-01T00:00:00\", \"2019-07-01T00:00:00\", \"2019-08-01T00:00:00\", \"2019-09-01T00:00:00\", \"2019-10-01T00:00:00\", \"2019-11-01T00:00:00\", \"2019-12-01T00:00:00\", \"2020-01-01T00:00:00\"], \"y\": [null, null, null, null, null, null, null, null, null, null, null, null, null, null, null, null, null, null, null, null, null, null, null, null, null, null, null, null, null, null, null, null, null, null, null, null, null, null, 13329051.0, 13536917.0, 18513967.0, 15187219.0]}],\n",
       "                        {\"template\": {\"data\": {\"bar\": [{\"error_x\": {\"color\": \"#2a3f5f\"}, \"error_y\": {\"color\": \"#2a3f5f\"}, \"marker\": {\"line\": {\"color\": \"#E5ECF6\", \"width\": 0.5}}, \"type\": \"bar\"}], \"barpolar\": [{\"marker\": {\"line\": {\"color\": \"#E5ECF6\", \"width\": 0.5}}, \"type\": \"barpolar\"}], \"carpet\": [{\"aaxis\": {\"endlinecolor\": \"#2a3f5f\", \"gridcolor\": \"white\", \"linecolor\": \"white\", \"minorgridcolor\": \"white\", \"startlinecolor\": \"#2a3f5f\"}, \"baxis\": {\"endlinecolor\": \"#2a3f5f\", \"gridcolor\": \"white\", \"linecolor\": \"white\", \"minorgridcolor\": \"white\", \"startlinecolor\": \"#2a3f5f\"}, \"type\": \"carpet\"}], \"choropleth\": [{\"colorbar\": {\"outlinewidth\": 0, \"ticks\": \"\"}, \"type\": \"choropleth\"}], \"contour\": [{\"colorbar\": {\"outlinewidth\": 0, \"ticks\": \"\"}, \"colorscale\": [[0.0, \"#0d0887\"], [0.1111111111111111, \"#46039f\"], [0.2222222222222222, \"#7201a8\"], [0.3333333333333333, \"#9c179e\"], [0.4444444444444444, \"#bd3786\"], [0.5555555555555556, \"#d8576b\"], [0.6666666666666666, \"#ed7953\"], [0.7777777777777778, \"#fb9f3a\"], [0.8888888888888888, \"#fdca26\"], [1.0, \"#f0f921\"]], \"type\": \"contour\"}], \"contourcarpet\": [{\"colorbar\": {\"outlinewidth\": 0, \"ticks\": \"\"}, \"type\": \"contourcarpet\"}], \"heatmap\": [{\"colorbar\": {\"outlinewidth\": 0, \"ticks\": \"\"}, \"colorscale\": [[0.0, \"#0d0887\"], [0.1111111111111111, \"#46039f\"], [0.2222222222222222, \"#7201a8\"], [0.3333333333333333, \"#9c179e\"], [0.4444444444444444, \"#bd3786\"], [0.5555555555555556, \"#d8576b\"], [0.6666666666666666, \"#ed7953\"], [0.7777777777777778, \"#fb9f3a\"], [0.8888888888888888, \"#fdca26\"], [1.0, \"#f0f921\"]], \"type\": \"heatmap\"}], \"heatmapgl\": [{\"colorbar\": {\"outlinewidth\": 0, \"ticks\": \"\"}, \"colorscale\": [[0.0, \"#0d0887\"], [0.1111111111111111, \"#46039f\"], [0.2222222222222222, \"#7201a8\"], [0.3333333333333333, \"#9c179e\"], [0.4444444444444444, \"#bd3786\"], [0.5555555555555556, \"#d8576b\"], [0.6666666666666666, \"#ed7953\"], [0.7777777777777778, \"#fb9f3a\"], [0.8888888888888888, \"#fdca26\"], [1.0, \"#f0f921\"]], \"type\": \"heatmapgl\"}], \"histogram\": [{\"marker\": {\"colorbar\": {\"outlinewidth\": 0, \"ticks\": \"\"}}, \"type\": \"histogram\"}], \"histogram2d\": [{\"colorbar\": {\"outlinewidth\": 0, \"ticks\": \"\"}, \"colorscale\": [[0.0, \"#0d0887\"], [0.1111111111111111, \"#46039f\"], [0.2222222222222222, \"#7201a8\"], [0.3333333333333333, \"#9c179e\"], [0.4444444444444444, \"#bd3786\"], [0.5555555555555556, \"#d8576b\"], [0.6666666666666666, \"#ed7953\"], [0.7777777777777778, \"#fb9f3a\"], [0.8888888888888888, \"#fdca26\"], [1.0, \"#f0f921\"]], \"type\": \"histogram2d\"}], \"histogram2dcontour\": [{\"colorbar\": {\"outlinewidth\": 0, \"ticks\": \"\"}, \"colorscale\": [[0.0, \"#0d0887\"], [0.1111111111111111, \"#46039f\"], [0.2222222222222222, \"#7201a8\"], [0.3333333333333333, \"#9c179e\"], [0.4444444444444444, \"#bd3786\"], [0.5555555555555556, \"#d8576b\"], [0.6666666666666666, \"#ed7953\"], [0.7777777777777778, \"#fb9f3a\"], [0.8888888888888888, \"#fdca26\"], [1.0, \"#f0f921\"]], \"type\": \"histogram2dcontour\"}], \"mesh3d\": [{\"colorbar\": {\"outlinewidth\": 0, \"ticks\": \"\"}, \"type\": \"mesh3d\"}], \"parcoords\": [{\"line\": {\"colorbar\": {\"outlinewidth\": 0, \"ticks\": \"\"}}, \"type\": \"parcoords\"}], \"pie\": [{\"automargin\": true, \"type\": \"pie\"}], \"scatter\": [{\"marker\": {\"colorbar\": {\"outlinewidth\": 0, \"ticks\": \"\"}}, \"type\": \"scatter\"}], \"scatter3d\": [{\"line\": {\"colorbar\": {\"outlinewidth\": 0, \"ticks\": \"\"}}, \"marker\": {\"colorbar\": {\"outlinewidth\": 0, \"ticks\": \"\"}}, \"type\": \"scatter3d\"}], \"scattercarpet\": [{\"marker\": {\"colorbar\": {\"outlinewidth\": 0, \"ticks\": \"\"}}, \"type\": \"scattercarpet\"}], \"scattergeo\": [{\"marker\": {\"colorbar\": {\"outlinewidth\": 0, \"ticks\": \"\"}}, \"type\": \"scattergeo\"}], \"scattergl\": [{\"marker\": {\"colorbar\": {\"outlinewidth\": 0, \"ticks\": \"\"}}, \"type\": \"scattergl\"}], \"scattermapbox\": [{\"marker\": {\"colorbar\": {\"outlinewidth\": 0, \"ticks\": \"\"}}, \"type\": \"scattermapbox\"}], \"scatterpolar\": [{\"marker\": {\"colorbar\": {\"outlinewidth\": 0, \"ticks\": \"\"}}, \"type\": \"scatterpolar\"}], \"scatterpolargl\": [{\"marker\": {\"colorbar\": {\"outlinewidth\": 0, \"ticks\": \"\"}}, \"type\": \"scatterpolargl\"}], \"scatterternary\": [{\"marker\": {\"colorbar\": {\"outlinewidth\": 0, \"ticks\": \"\"}}, \"type\": \"scatterternary\"}], \"surface\": [{\"colorbar\": {\"outlinewidth\": 0, \"ticks\": \"\"}, \"colorscale\": [[0.0, \"#0d0887\"], [0.1111111111111111, \"#46039f\"], [0.2222222222222222, \"#7201a8\"], [0.3333333333333333, \"#9c179e\"], [0.4444444444444444, \"#bd3786\"], [0.5555555555555556, \"#d8576b\"], [0.6666666666666666, \"#ed7953\"], [0.7777777777777778, \"#fb9f3a\"], [0.8888888888888888, \"#fdca26\"], [1.0, \"#f0f921\"]], \"type\": \"surface\"}], \"table\": [{\"cells\": {\"fill\": {\"color\": \"#EBF0F8\"}, \"line\": {\"color\": \"white\"}}, \"header\": {\"fill\": {\"color\": \"#C8D4E3\"}, \"line\": {\"color\": \"white\"}}, \"type\": \"table\"}]}, \"layout\": {\"annotationdefaults\": {\"arrowcolor\": \"#2a3f5f\", \"arrowhead\": 0, \"arrowwidth\": 1}, \"coloraxis\": {\"colorbar\": {\"outlinewidth\": 0, \"ticks\": \"\"}}, \"colorscale\": {\"diverging\": [[0, \"#8e0152\"], [0.1, \"#c51b7d\"], [0.2, \"#de77ae\"], [0.3, \"#f1b6da\"], [0.4, \"#fde0ef\"], [0.5, \"#f7f7f7\"], [0.6, \"#e6f5d0\"], [0.7, \"#b8e186\"], [0.8, \"#7fbc41\"], [0.9, \"#4d9221\"], [1, \"#276419\"]], \"sequential\": [[0.0, \"#0d0887\"], [0.1111111111111111, \"#46039f\"], [0.2222222222222222, \"#7201a8\"], [0.3333333333333333, \"#9c179e\"], [0.4444444444444444, \"#bd3786\"], [0.5555555555555556, \"#d8576b\"], [0.6666666666666666, \"#ed7953\"], [0.7777777777777778, \"#fb9f3a\"], [0.8888888888888888, \"#fdca26\"], [1.0, \"#f0f921\"]], \"sequentialminus\": [[0.0, \"#0d0887\"], [0.1111111111111111, \"#46039f\"], [0.2222222222222222, \"#7201a8\"], [0.3333333333333333, \"#9c179e\"], [0.4444444444444444, \"#bd3786\"], [0.5555555555555556, \"#d8576b\"], [0.6666666666666666, \"#ed7953\"], [0.7777777777777778, \"#fb9f3a\"], [0.8888888888888888, \"#fdca26\"], [1.0, \"#f0f921\"]]}, \"colorway\": [\"#636efa\", \"#EF553B\", \"#00cc96\", \"#ab63fa\", \"#FFA15A\", \"#19d3f3\", \"#FF6692\", \"#B6E880\", \"#FF97FF\", \"#FECB52\"], \"font\": {\"color\": \"#2a3f5f\"}, \"geo\": {\"bgcolor\": \"white\", \"lakecolor\": \"white\", \"landcolor\": \"#E5ECF6\", \"showlakes\": true, \"showland\": true, \"subunitcolor\": \"white\"}, \"hoverlabel\": {\"align\": \"left\"}, \"hovermode\": \"closest\", \"mapbox\": {\"style\": \"light\"}, \"paper_bgcolor\": \"white\", \"plot_bgcolor\": \"#E5ECF6\", \"polar\": {\"angularaxis\": {\"gridcolor\": \"white\", \"linecolor\": \"white\", \"ticks\": \"\"}, \"bgcolor\": \"#E5ECF6\", \"radialaxis\": {\"gridcolor\": \"white\", \"linecolor\": \"white\", \"ticks\": \"\"}}, \"scene\": {\"xaxis\": {\"backgroundcolor\": \"#E5ECF6\", \"gridcolor\": \"white\", \"gridwidth\": 2, \"linecolor\": \"white\", \"showbackground\": true, \"ticks\": \"\", \"zerolinecolor\": \"white\"}, \"yaxis\": {\"backgroundcolor\": \"#E5ECF6\", \"gridcolor\": \"white\", \"gridwidth\": 2, \"linecolor\": \"white\", \"showbackground\": true, \"ticks\": \"\", \"zerolinecolor\": \"white\"}, \"zaxis\": {\"backgroundcolor\": \"#E5ECF6\", \"gridcolor\": \"white\", \"gridwidth\": 2, \"linecolor\": \"white\", \"showbackground\": true, \"ticks\": \"\", \"zerolinecolor\": \"white\"}}, \"shapedefaults\": {\"line\": {\"color\": \"#2a3f5f\"}}, \"ternary\": {\"aaxis\": {\"gridcolor\": \"white\", \"linecolor\": \"white\", \"ticks\": \"\"}, \"baxis\": {\"gridcolor\": \"white\", \"linecolor\": \"white\", \"ticks\": \"\"}, \"bgcolor\": \"#E5ECF6\", \"caxis\": {\"gridcolor\": \"white\", \"linecolor\": \"white\", \"ticks\": \"\"}}, \"title\": {\"x\": 0.05}, \"xaxis\": {\"automargin\": true, \"gridcolor\": \"white\", \"linecolor\": \"white\", \"ticks\": \"\", \"title\": {\"standoff\": 15}, \"zerolinecolor\": \"white\", \"zerolinewidth\": 2}, \"yaxis\": {\"automargin\": true, \"gridcolor\": \"white\", \"linecolor\": \"white\", \"ticks\": \"\", \"title\": {\"standoff\": 15}, \"zerolinecolor\": \"white\", \"zerolinewidth\": 2}}}, \"title\": {\"text\": \"Sales Prediction\"}},\n",
       "                        {\"responsive\": true}\n",
       "                    ).then(function(){\n",
       "                            \n",
       "var gd = document.getElementById('f1483560-2e70-4716-996d-96a92ce3fa2a');\n",
       "var x = new MutationObserver(function (mutations, observer) {{\n",
       "        var display = window.getComputedStyle(gd).display;\n",
       "        if (!display || display === 'none') {{\n",
       "            console.log([gd, 'removed!']);\n",
       "            Plotly.purge(gd);\n",
       "            observer.disconnect();\n",
       "        }}\n",
       "}});\n",
       "\n",
       "// Listen for the removal of the full notebook cells\n",
       "var notebookContainer = gd.closest('#notebook-container');\n",
       "if (notebookContainer) {{\n",
       "    x.observe(notebookContainer, {childList: true});\n",
       "}}\n",
       "\n",
       "// Listen for the clearing of the current output cell\n",
       "var outputEl = gd.closest('.output');\n",
       "if (outputEl) {{\n",
       "    x.observe(outputEl, {childList: true});\n",
       "}}\n",
       "\n",
       "                        })\n",
       "                };\n",
       "                });\n",
       "            </script>\n",
       "        </div>"
      ]
     },
     "metadata": {},
     "output_type": "display_data"
    }
   ],
   "source": [
    "#merge with actual sales dataframe\n",
    "df_sales_pred = pd.merge(df_sales,df_result,on='date',how='left')\n",
    "#plot actual and predicted\n",
    "plot_data = [\n",
    "    go.Scatter(\n",
    "        x=df_sales_pred['date'],\n",
    "        y=df_sales_pred['sales'],\n",
    "        name='actual'\n",
    "    ),\n",
    "        go.Scatter(\n",
    "        x=df_sales_pred['date'],\n",
    "        y=df_sales_pred['pred_value'],\n",
    "        name='predicted'\n",
    "    )   \n",
    "]\n",
    "plot_layout = go.Layout(\n",
    "        title='Sales Prediction'\n",
    "    )\n",
    "fig = go.Figure(data=plot_data, layout=plot_layout)\n",
    "\n",
    "fig.show()"
   ]
  },
  {
   "cell_type": "code",
   "execution_count": null,
   "metadata": {},
   "outputs": [],
   "source": []
  }
 ],
 "metadata": {
  "kernelspec": {
   "display_name": "Python 3",
   "language": "python",
   "name": "python3"
  },
  "language_info": {
   "codemirror_mode": {
    "name": "ipython",
    "version": 3
   },
   "file_extension": ".py",
   "mimetype": "text/x-python",
   "name": "python",
   "nbconvert_exporter": "python",
   "pygments_lexer": "ipython3",
   "version": "3.7.3"
  }
 },
 "nbformat": 4,
 "nbformat_minor": 2
}
